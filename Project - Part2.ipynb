{
  "cells": [
    {
      "cell_type": "markdown",
      "metadata": {
        "id": "PD9TzV9MHYjP"
      },
      "source": [
        "**MODEL BUILDING ON USED BIKE PRICE PREDICTION**"
      ]
    },
    {
      "cell_type": "markdown",
      "metadata": {
        "id": "_6qKik4kIXc0"
      },
      "source": [
        "Importing Libraries"
      ]
    },
    {
      "cell_type": "code",
      "execution_count": null,
      "metadata": {
        "id": "xRV6AYUKGgRw"
      },
      "outputs": [],
      "source": [
        "import pandas as pd\n",
        "import numpy as np\n",
        "import matplotlib.pyplot as plt\n",
        "import seaborn as sns\n",
        "\n",
        "from sklearn.model_selection import train_test_split,cross_val_score\n",
        "from sklearn.metrics import mean_squared_error,mean_absolute_error,r2_score"
      ]
    },
    {
      "cell_type": "markdown",
      "metadata": {
        "id": "zBwUEtLCJxKS"
      },
      "source": [
        "Reading the data"
      ]
    },
    {
      "cell_type": "code",
      "execution_count": null,
      "metadata": {
        "colab": {
          "base_uri": "https://localhost:8080/"
        },
        "id": "hPxBIIpvdqSG",
        "outputId": "2d8ea0a7-1d9a-4ff8-c47e-cc4b72886ed2"
      },
      "outputs": [
        {
          "output_type": "stream",
          "name": "stdout",
          "text": [
            "<class 'pandas.core.frame.DataFrame'>\n",
            "Index: 69218 entries, TVS Star City Plus Dual Tone 110cc to Bajaj Pulsar\n",
            "Data columns (total 5 columns):\n",
            " #   Column     Non-Null Count  Dtype \n",
            "---  ------     --------------  ----- \n",
            " 0   price      69218 non-null  int64 \n",
            " 1   city       69218 non-null  object\n",
            " 2   km_driven  69218 non-null  int64 \n",
            " 3   owner      69218 non-null  object\n",
            " 4   brand      69218 non-null  object\n",
            "dtypes: int64(2), object(3)\n",
            "memory usage: 3.2+ MB\n"
          ]
        }
      ],
      "source": [
        "project_data = pd.read_csv(r\"/content/drive/MyDrive/Project/30-09-2023.csv\",index_col = 0)\n",
        "project_data.info()"
      ]
    },
    {
      "cell_type": "markdown",
      "metadata": {
        "id": "lN13krYAK1KV"
      },
      "source": [
        "Converting categorical variables into dummy variables\n"
      ]
    },
    {
      "cell_type": "code",
      "execution_count": null,
      "metadata": {
        "colab": {
          "base_uri": "https://localhost:8080/"
        },
        "id": "RJAwLDTNK7c0",
        "outputId": "f3104af2-2b88-4ca1-a4fd-87cdf22db239"
      },
      "outputs": [
        {
          "output_type": "stream",
          "name": "stdout",
          "text": [
            "<class 'pandas.core.frame.DataFrame'>\n",
            "Index: 69218 entries, TVS Star City Plus Dual Tone 110cc to Bajaj Pulsar\n",
            "Columns: 878 entries, price to brand_yamaha\n",
            "dtypes: int64(2), uint8(876)\n",
            "memory usage: 59.4+ MB\n"
          ]
        }
      ],
      "source": [
        "project_data = pd.get_dummies(project_data,drop_first = True)\n",
        "project_data.info()"
      ]
    },
    {
      "cell_type": "markdown",
      "metadata": {
        "id": "SjRpydGqLSFv"
      },
      "source": [
        "Seperating input and output variables"
      ]
    },
    {
      "cell_type": "code",
      "execution_count": null,
      "metadata": {
        "colab": {
          "base_uri": "https://localhost:8080/"
        },
        "id": "hFRKWI1mL_ks",
        "outputId": "06c72d12-0589-4a33-d76e-34c2f3070b72"
      },
      "outputs": [
        {
          "output_type": "stream",
          "name": "stdout",
          "text": [
            "<class 'pandas.core.frame.DataFrame'>\n",
            "Index: 69218 entries, TVS Star City Plus Dual Tone 110cc to Bajaj Pulsar\n",
            "Columns: 878 entries, price to brand_yamaha\n",
            "dtypes: int64(2), uint8(876)\n",
            "memory usage: 59.4+ MB\n"
          ]
        }
      ],
      "source": [
        "project_data.info()\n",
        "X = project_data.drop([\"price\"],axis = \"columns\")\n",
        "y = project_data[\"price\"]"
      ]
    },
    {
      "cell_type": "markdown",
      "metadata": {
        "id": "1h2DMtPFMNu7"
      },
      "source": [
        "Splitting the data for training and testing"
      ]
    },
    {
      "cell_type": "code",
      "execution_count": null,
      "metadata": {
        "colab": {
          "base_uri": "https://localhost:8080/"
        },
        "id": "EPdEQUQpMTqV",
        "outputId": "86d7c59b-7ece-45c9-8791-d7673611241a"
      },
      "outputs": [
        {
          "output_type": "stream",
          "name": "stdout",
          "text": [
            "(55374, 877) (13844, 877) (55374,) (13844,)\n"
          ]
        }
      ],
      "source": [
        "X_train,X_test,y_train,y_test = train_test_split(X,y,test_size = 0.2)\n",
        "print(X_train.shape,X_test.shape,y_train.shape,y_test.shape)"
      ]
    },
    {
      "cell_type": "markdown",
      "metadata": {
        "id": "-c5GSvI0Mt-f"
      },
      "source": [
        "Linear Regression"
      ]
    },
    {
      "cell_type": "code",
      "execution_count": null,
      "metadata": {
        "colab": {
          "base_uri": "https://localhost:8080/"
        },
        "id": "szWpDiCmMxK3",
        "outputId": "e329ebe6-7cb1-42cb-e81e-ecdab12fb6d8"
      },
      "outputs": [
        {
          "name": "stdout",
          "output_type": "stream",
          "text": [
            "R2 Score: -104915933133.8538\n"
          ]
        }
      ],
      "source": [
        "from sklearn.linear_model import LinearRegression\n",
        "\n",
        "lin_model = LinearRegression()\n",
        "\n",
        "lin_model.fit(X_train,y_train)\n",
        "\n",
        "lin_predictions = lin_model.predict(X_test)\n",
        "\n",
        "\n",
        "\n",
        "# Calculate the R-squared value for the test data\n",
        "r2_linear_value = r2_score(y_test, lin_predictions)\n",
        "print(f\"R2 Score: {r2_linear_value:.4f}\")\n",
        "\n"
      ]
    },
    {
      "cell_type": "markdown",
      "metadata": {
        "id": "kmkvtUpF0DFu"
      },
      "source": [
        "Cross validation - Linear Regression\n"
      ]
    },
    {
      "cell_type": "code",
      "execution_count": null,
      "metadata": {
        "colab": {
          "base_uri": "https://localhost:8080/"
        },
        "id": "272uFWcW0HVf",
        "outputId": "dce98507-2f18-4326-b4f8-1a7668a7d8c7"
      },
      "outputs": [
        {
          "name": "stdout",
          "output_type": "stream",
          "text": [
            "Fold 1 r2 score:-276600718547488.0000\n",
            "Fold 2 r2 score:0.7576\n",
            "Fold 3 r2 score:0.7487\n",
            "Fold 4 r2 score:0.7548\n",
            "Fold 5 r2 score:0.7456\n",
            "Fold 6 r2 score:0.7485\n",
            "Fold 7 r2 score:0.7520\n",
            "Fold 8 r2 score:0.7509\n",
            "Fold 9 r2 score:-407854043174.2244\n",
            "Fold 10 r2 score:0.7521\n",
            "Mean of r2_score for Linear Regression is -27700857259065.621094\n"
          ]
        }
      ],
      "source": [
        "k = 10\n",
        "\n",
        "linear_scores = cross_val_score(lin_model,X_train,y_train,cv = k,scoring = 'r2')\n",
        "\n",
        "for i , linear_r2 in enumerate(linear_scores):\n",
        "    print(f\"Fold {i+1} r2 score:{linear_r2:.4f}\")\n",
        "\n",
        "linear_r2_mean = linear_scores.mean()\n",
        "\n",
        "print(\"Mean of r2_score for Linear Regression is %f\" % linear_r2_mean)\n",
        "\n"
      ]
    },
    {
      "cell_type": "markdown",
      "metadata": {
        "id": "ZN4oDHRkPBfP"
      },
      "source": [
        "Evaluation"
      ]
    },
    {
      "cell_type": "code",
      "execution_count": null,
      "metadata": {
        "colab": {
          "base_uri": "https://localhost:8080/"
        },
        "id": "CovWmOe4PEX-",
        "outputId": "93b1a0a1-bcba-4783-d966-ee9b3f0dd93a"
      },
      "outputs": [
        {
          "name": "stdout",
          "output_type": "stream",
          "text": [
            "19143.88852055391\n"
          ]
        }
      ],
      "source": [
        "rmse = np.sqrt(mean_squared_error(y_test,lin_predictions))\n",
        "print(rmse)\n",
        "\n"
      ]
    },
    {
      "cell_type": "markdown",
      "metadata": {
        "id": "m-Fx2LWFUhWD"
      },
      "source": [
        "Decision Tree Regressor"
      ]
    },
    {
      "cell_type": "code",
      "execution_count": null,
      "metadata": {
        "id": "yvIGSvNFUgwU"
      },
      "outputs": [],
      "source": [
        "from sklearn.tree import DecisionTreeRegressor\n",
        "\n",
        "decision_model = DecisionTreeRegressor()\n",
        "\n",
        "decision_model.fit(X_train,y_train)\n",
        "\n",
        "predicted_decisions = decision_model.predict(X_test)"
      ]
    },
    {
      "cell_type": "code",
      "execution_count": null,
      "metadata": {
        "colab": {
          "base_uri": "https://localhost:8080/"
        },
        "id": "cItY-UO9VBBA",
        "outputId": "b987b8c0-9b1b-4d6c-bfac-bf11185fedb9"
      },
      "outputs": [
        {
          "name": "stdout",
          "output_type": "stream",
          "text": [
            "0.9329322785258679\n",
            "9935.21872168699\n"
          ]
        }
      ],
      "source": [
        "#r2_value = r2_score(y_test,predicted_decisions)\n",
        "#print(r2_value)\n",
        "#print(np.sqrt(mean_squared_error(y_test,predicted_decisions)))\n",
        "#print(mean_squared_error(y_test,predicted_decisions,squared = False))\n",
        "#print(mean_squared_error(y_test,predicted_decisions))\n"
      ]
    },
    {
      "cell_type": "code",
      "execution_count": null,
      "metadata": {
        "colab": {
          "base_uri": "https://localhost:8080/"
        },
        "id": "NNNHixnIy3Hy",
        "outputId": "fde6f017-1bcf-4c9b-8744-80c236aac7cd"
      },
      "outputs": [
        {
          "name": "stdout",
          "output_type": "stream",
          "text": [
            "Fold 1 r2 score: 0.91\n",
            "Fold 2 r2 score: 0.92\n",
            "Fold 3 r2 score: 0.91\n",
            "Fold 4 r2 score: 0.93\n",
            "Fold 5 r2 score: 0.92\n",
            "Fold 6 r2 score: 0.93\n",
            "Fold 7 r2 score: 0.92\n",
            "Fold 8 r2 score: 0.93\n",
            "Fold 9 r2 score: 0.92\n",
            "Fold 10 r2 score: 0.91\n",
            "Mean r2 score: 0.92\n"
          ]
        }
      ],
      "source": [
        "k = 10\n",
        "decision_scores = cross_val_score(decision_model, X_train, y_train, cv=k, scoring='r2')\n",
        "\n",
        "\n",
        "# Print the r2 score for each fold and the mean r2 score\n",
        "for i, decision_r2 in enumerate(decision_scores):\n",
        "    print(f\"Fold {i + 1} r2 score: {decision_r2:.2f}\")\n",
        "\n",
        "r2_mean = decision_scores.mean()\n",
        "print(f\"Mean r2 score: {r2_mean:.2f}\")"
      ]
    },
    {
      "cell_type": "markdown",
      "metadata": {
        "id": "iD6ICyyw7hXK"
      },
      "source": [
        "Random Forest Regresor"
      ]
    },
    {
      "cell_type": "code",
      "execution_count": null,
      "metadata": {
        "id": "phhyEihv7nWk"
      },
      "outputs": [],
      "source": [
        "from sklearn.ensemble import RandomForestRegressor\n",
        "\n",
        "random_forest = RandomForestRegressor()\n",
        "\n",
        "random_forest.fit(X_train,y_train)\n",
        "\n",
        "random_forest_predictions = random_forest.predict(X_test)"
      ]
    },
    {
      "cell_type": "markdown",
      "metadata": {
        "id": "4NfIh1MY9P2p"
      },
      "source": [
        "Random Forest Cross Validation"
      ]
    },
    {
      "cell_type": "code",
      "execution_count": null,
      "metadata": {
        "colab": {
          "base_uri": "https://localhost:8080/"
        },
        "id": "RjhSR5qY9PRj",
        "outputId": "42690acb-dff6-4aa5-f6e1-ad4c5eb75256"
      },
      "outputs": [
        {
          "name": "stdout",
          "output_type": "stream",
          "text": [
            "Fold 1 r2 score:0.92\n",
            "Fold 2 r2 score:0.93\n",
            "Fold 3 r2 score:0.92\n",
            "Fold 4 r2 score:0.93\n",
            "Fold 5 r2 score:0.93\n",
            "Fold 6 r2 score:0.93\n",
            "Fold 7 r2 score:0.93\n",
            "Fold 8 r2 score:0.94\n",
            "Fold 9 r2 score:0.93\n",
            "Fold 10 r2 score:0.92\n",
            "Mean of r2 scores in random forest model is: 0.9276234065825635\n"
          ]
        }
      ],
      "source": [
        "k = 10\n",
        "\n",
        "random_forest_scores = cross_val_score(random_forest,X_train,y_train,cv = k,scoring = \"r2\")\n",
        "\n",
        "for i , random_forest_r2 in enumerate(random_forest_scores):\n",
        "    print(f\"Fold {i+1} r2 score:{random_forest_r2:.2f}\")\n",
        "\n",
        "random_forest_r2_mean = random_forest_scores.mean()\n",
        "\n",
        "print(\"Mean of r2 scores in random forest model is:\",random_forest_r2_mean)"
      ]
    },
    {
      "cell_type": "markdown",
      "metadata": {
        "id": "mD8kVa6R_POr"
      },
      "source": [
        "XG Boost Algorithm"
      ]
    },
    {
      "cell_type": "code",
      "execution_count": null,
      "metadata": {
        "id": "SeRqbosx_V8P"
      },
      "outputs": [],
      "source": [
        "import xgboost as xgb\n",
        "\n",
        "xgb_model = xgb.XGBRegressor()\n",
        "\n",
        "xgb_model.fit(X_train,y_train)\n",
        "\n",
        "xgb_predictions = xgb_model.predict(X_test)\n",
        "\n"
      ]
    },
    {
      "cell_type": "markdown",
      "metadata": {
        "id": "kE3dkeSe_8f3"
      },
      "source": [
        "XG BOOST - CROSS VALIDATION"
      ]
    },
    {
      "cell_type": "code",
      "execution_count": null,
      "metadata": {
        "colab": {
          "base_uri": "https://localhost:8080/"
        },
        "id": "zsKlUJFmABT5",
        "outputId": "8c4eb32b-d000-4ce7-8be4-4beeef1afeb8"
      },
      "outputs": [
        {
          "name": "stdout",
          "output_type": "stream",
          "text": [
            "Fold 1 r2 score:0.87\n",
            "Fold 2 r2 score:0.87\n",
            "Fold 3 r2 score:0.87\n",
            "Fold 4 r2 score:0.88\n",
            "Fold 5 r2 score:0.88\n",
            "Fold 6 r2 score:0.87\n",
            "Fold 7 r2 score:0.88\n",
            "Fold 8 r2 score:0.88\n",
            "Fold 9 r2 score:0.87\n",
            "Fold 10 r2 score:0.87\n",
            "Mean of r2 scores in xgboost model is: 0.8752565707416711\n"
          ]
        }
      ],
      "source": [
        "xgboost_scores = cross_val_score(xgb_model,X_train,y_train,cv = 10,scoring = \"r2\")\n",
        "\n",
        "for i , xgboost_r2 in enumerate(xgboost_scores):\n",
        "    print(f\"Fold {i + 1} r2 score:{xgboost_r2:.2f}\")\n",
        "\n",
        "xgboost_r2_mean = xgboost_scores.mean()\n",
        "\n",
        "print(\"Mean of r2 scores in xgboost model is:\",xgboost_r2_mean)\n"
      ]
    },
    {
      "cell_type": "markdown",
      "metadata": {
        "id": "kW6T-TCcBHEG"
      },
      "source": [
        "Support Vector Machine"
      ]
    },
    {
      "cell_type": "code",
      "execution_count": null,
      "metadata": {
        "id": "EL41LtlDSVFk"
      },
      "outputs": [],
      "source": [
        "from sklearn.svm import SVR\n",
        "\n",
        "svr_model = SVR()\n",
        "\n",
        "svr_model.fit(X_train,y_train)\n",
        "\n",
        "svr_predictions = svr_model.predict(X_test)\n"
      ]
    },
    {
      "cell_type": "markdown",
      "metadata": {
        "id": "uDU6zjDOBmJB"
      },
      "source": [
        "Support Vector Machine - CROSS VALIDAITON"
      ]
    },
    {
      "cell_type": "code",
      "execution_count": null,
      "metadata": {
        "id": "nzwpxzn7bilh"
      },
      "outputs": [],
      "source": [
        "svr_scores = cross_val_score(svr_model,X_train,y_train,cv = 10,scoring = \"r2\")\n",
        "\n",
        "for i , svr_r2 in enumerate(svr_scores):\n",
        "    print(f\"Fold {i+1} r2 score:{svr_r2:.2f}\")\n",
        "\n",
        "svr_r2_mean = svr_scores.mean()\n",
        "\n",
        "print(\"Mean of r2 scores in svr model is:\",svr_r2_mean)"
      ]
    },
    {
      "cell_type": "markdown",
      "metadata": {
        "id": "e7o7FWUFCfZa"
      },
      "source": [
        "Neural Networks -- Multi-Layer-Perceptron"
      ]
    },
    {
      "cell_type": "code",
      "execution_count": null,
      "metadata": {
        "colab": {
          "background_save": true
        },
        "id": "BGMyGWa1UHdm"
      },
      "outputs": [],
      "source": [
        "from sklearn.neural_network import MLPRegressor\n",
        "\n",
        "MLP_model = MLPRegressor()\n",
        "\n",
        "MLP_model.fit(X_train,y_train)\n",
        "\n",
        "MLP_predictions = MLP_model.predict(X_test)"
      ]
    },
    {
      "cell_type": "markdown",
      "metadata": {
        "id": "auhJXhuwDO1Y"
      },
      "source": [
        "Neural Networks - CROSS VALIDATION"
      ]
    },
    {
      "cell_type": "code",
      "execution_count": null,
      "metadata": {
        "colab": {
          "base_uri": "https://localhost:8080/"
        },
        "id": "6Ij5xjD_DTlK",
        "outputId": "e20332bf-f4ca-450e-b8c4-3f35fa971069"
      },
      "outputs": [
        {
          "name": "stderr",
          "output_type": "stream",
          "text": [
            "/usr/local/lib/python3.10/dist-packages/sklearn/neural_network/_multilayer_perceptron.py:686: ConvergenceWarning: Stochastic Optimizer: Maximum iterations (200) reached and the optimization hasn't converged yet.\n",
            "  warnings.warn(\n",
            "/usr/local/lib/python3.10/dist-packages/sklearn/neural_network/_multilayer_perceptron.py:686: ConvergenceWarning: Stochastic Optimizer: Maximum iterations (200) reached and the optimization hasn't converged yet.\n",
            "  warnings.warn(\n",
            "/usr/local/lib/python3.10/dist-packages/sklearn/neural_network/_multilayer_perceptron.py:686: ConvergenceWarning: Stochastic Optimizer: Maximum iterations (200) reached and the optimization hasn't converged yet.\n",
            "  warnings.warn(\n",
            "/usr/local/lib/python3.10/dist-packages/sklearn/neural_network/_multilayer_perceptron.py:686: ConvergenceWarning: Stochastic Optimizer: Maximum iterations (200) reached and the optimization hasn't converged yet.\n",
            "  warnings.warn(\n",
            "/usr/local/lib/python3.10/dist-packages/sklearn/neural_network/_multilayer_perceptron.py:686: ConvergenceWarning: Stochastic Optimizer: Maximum iterations (200) reached and the optimization hasn't converged yet.\n",
            "  warnings.warn(\n",
            "/usr/local/lib/python3.10/dist-packages/sklearn/neural_network/_multilayer_perceptron.py:686: ConvergenceWarning: Stochastic Optimizer: Maximum iterations (200) reached and the optimization hasn't converged yet.\n",
            "  warnings.warn(\n",
            "/usr/local/lib/python3.10/dist-packages/sklearn/neural_network/_multilayer_perceptron.py:686: ConvergenceWarning: Stochastic Optimizer: Maximum iterations (200) reached and the optimization hasn't converged yet.\n",
            "  warnings.warn(\n",
            "/usr/local/lib/python3.10/dist-packages/sklearn/neural_network/_multilayer_perceptron.py:686: ConvergenceWarning: Stochastic Optimizer: Maximum iterations (200) reached and the optimization hasn't converged yet.\n",
            "  warnings.warn(\n",
            "/usr/local/lib/python3.10/dist-packages/sklearn/neural_network/_multilayer_perceptron.py:686: ConvergenceWarning: Stochastic Optimizer: Maximum iterations (200) reached and the optimization hasn't converged yet.\n",
            "  warnings.warn(\n"
          ]
        },
        {
          "name": "stdout",
          "output_type": "stream",
          "text": [
            "Fold 1 r2 score:0.6374\n",
            "Fold 2 r2 score:0.6505\n",
            "Fold 3 r2 score:0.6057\n",
            "Fold 4 r2 score:0.6469\n",
            "Fold 5 r2 score:0.6760\n",
            "Fold 6 r2 score:0.6557\n",
            "Fold 7 r2 score:0.6619\n",
            "Fold 8 r2 score:0.6620\n",
            "Fold 9 r2 score:0.6569\n",
            "Fold 10 r2 score:0.6273\n",
            "Mean of r2 scores in mlp model is: 0.6480142594430036\n"
          ]
        },
        {
          "name": "stderr",
          "output_type": "stream",
          "text": [
            "/usr/local/lib/python3.10/dist-packages/sklearn/neural_network/_multilayer_perceptron.py:686: ConvergenceWarning: Stochastic Optimizer: Maximum iterations (200) reached and the optimization hasn't converged yet.\n",
            "  warnings.warn(\n"
          ]
        }
      ],
      "source": [
        "mlp_scores = cross_val_score(MLP_model,X_train,y_train,cv = 10,scoring = \"r2\")\n",
        "\n",
        "for i , mlp_r2 in enumerate(mlp_scores):\n",
        "   print(f\"Fold {i+1} r2 score:{mlp_r2:.2f}\")\n",
        "\n",
        "mlp_r2_mean = mlp_scores.mean()\n",
        "\n",
        "print(\"Mean of r2 scores in mlp model is:\",mlp_r2_mean)"
      ]
    },
    {
      "cell_type": "markdown",
      "metadata": {
        "id": "XjCqfB61HED7"
      },
      "source": [
        "KNN - Regressor"
      ]
    },
    {
      "cell_type": "code",
      "execution_count": null,
      "metadata": {
        "colab": {
          "base_uri": "https://localhost:8080/"
        },
        "id": "LwEHed7dIohL",
        "outputId": "c3367405-1e89-4cd7-fcaa-6725db965707"
      },
      "outputs": [
        {
          "output_type": "stream",
          "name": "stdout",
          "text": [
            "R2 - score of KNN: 0.8447106001257477\n",
            "R2 - score of KNN: 0.8119050484359053\n",
            "R2 - score of KNN: 0.7923234201749609\n",
            "R2 - score of KNN: 0.7745305868173631\n",
            "R2 - score of KNN: 0.7647618113351289\n",
            "R2 - score of KNN: 0.7578472239390879\n",
            "R2 - score of KNN: 0.7517294777664966\n",
            "R2 - score of KNN: 0.7473209497987706\n"
          ]
        }
      ],
      "source": [
        "from sklearn.neighbors import KNeighborsRegressor\n",
        "\n",
        "k_values = [2,3,4,5,6,7,8,9]\n",
        "\n",
        "for k in k_values:\n",
        "\n",
        "    KNN = KNeighborsRegressor(n_neighbors = k)\n",
        "\n",
        "    KNN.fit(X_train,y_train)\n",
        "\n",
        "    knn_predictions = KNN.predict(X_test)\n",
        "\n",
        "    knn_r2 = r2_score(y_test,knn_predictions)\n",
        "\n",
        "    print(\"R2 - score of KNN:\",knn_r2)\n"
      ]
    },
    {
      "cell_type": "markdown",
      "metadata": {
        "id": "wtF95pkEIcn8"
      },
      "source": [
        "Lasso Regression"
      ]
    },
    {
      "cell_type": "code",
      "execution_count": null,
      "metadata": {
        "id": "c9HB3qw0IhUL"
      },
      "outputs": [],
      "source": [
        "from sklearn.linear_model import Lasso\n",
        "\n",
        "lasso_model = Lasso()\n",
        "\n",
        "lasso_model.fit(X_train,y_train)\n",
        "\n",
        "lasso_predictions = lasso_model.predict(X_test)"
      ]
    },
    {
      "cell_type": "markdown",
      "metadata": {
        "id": "8w9Z7Il-I_Yk"
      },
      "source": [
        "Cross Validation"
      ]
    },
    {
      "cell_type": "code",
      "execution_count": null,
      "metadata": {
        "colab": {
          "base_uri": "https://localhost:8080/"
        },
        "id": "ezVmm0CCJCm_",
        "outputId": "28645fb9-322e-4b45-fe21-1f6527bcc8ea"
      },
      "outputs": [
        {
          "name": "stdout",
          "output_type": "stream",
          "text": [
            "Fold 1 r2 score:0.74\n",
            "Fold 2 r2 score:0.76\n",
            "Fold 3 r2 score:0.75\n",
            "Fold 4 r2 score:0.76\n",
            "Fold 5 r2 score:0.75\n",
            "Fold 6 r2 score:0.75\n",
            "Fold 7 r2 score:0.75\n",
            "Fold 8 r2 score:0.75\n",
            "Fold 9 r2 score:0.75\n",
            "Fold 10 r2 score:0.75\n",
            "Mean of r2 score values in Lasso Regression: 0.7500832503793315\n"
          ]
        }
      ],
      "source": [
        "lasso_scores = cross_val_score(lasso_model,X_train,y_train,cv = 10,scoring = \"r2\")\n",
        "\n",
        "for i, lasso_r2 in enumerate(lasso_scores):\n",
        "    print(f\"Fold {i+1} r2 score:{lasso_r2:.2f}\")\n",
        "\n",
        "lasso_r2_mean = lasso_scores.mean()\n",
        "print(\"Mean of r2 score values in Lasso Regression:\",lasso_r2_mean)"
      ]
    },
    {
      "cell_type": "markdown",
      "metadata": {
        "id": "pXlnk5DZhDNE"
      },
      "source": [
        "Ridge"
      ]
    },
    {
      "cell_type": "code",
      "execution_count": null,
      "metadata": {
        "id": "8IhfGyBjhE4G"
      },
      "outputs": [],
      "source": [
        "from sklearn.linear_model import Ridge\n",
        "\n",
        "ridge_model = Ridge()\n",
        "\n",
        "ridge_model.fit(X_train,y_train)\n",
        "\n",
        "ridge_predictions = ridge_model.predict(X_test)"
      ]
    },
    {
      "cell_type": "markdown",
      "metadata": {
        "id": "F-kj4ZVUhRU_"
      },
      "source": [
        "Cross Validation"
      ]
    },
    {
      "cell_type": "code",
      "execution_count": null,
      "metadata": {
        "colab": {
          "base_uri": "https://localhost:8080/"
        },
        "id": "hl2HUOX9hUGC",
        "outputId": "52abdfdd-6920-4c98-da92-ca0fee45e616"
      },
      "outputs": [
        {
          "name": "stdout",
          "output_type": "stream",
          "text": [
            "Fold 1 r2 score:0.75\n",
            "Fold 2 r2 score:0.76\n",
            "Fold 3 r2 score:0.75\n",
            "Fold 4 r2 score:0.76\n",
            "Fold 5 r2 score:0.75\n",
            "Fold 6 r2 score:0.75\n",
            "Fold 7 r2 score:0.75\n",
            "Fold 8 r2 score:0.75\n",
            "Fold 9 r2 score:0.75\n",
            "Fold 10 r2 score:0.75\n",
            "Mean of r2 score values in Lasso Regression: 0.7530282620058311\n"
          ]
        }
      ],
      "source": [
        "ridge_scores = cross_val_score(ridge_model,X_train,y_train,cv = 10,scoring = \"r2\")\n",
        "\n",
        "for i, ridge_r2 in enumerate(ridge_scores):\n",
        "    print(f\"Fold {i+1} r2 score:{ridge_r2:.2f}\")\n",
        "\n",
        "ridge_r2_mean = ridge_scores.mean()\n",
        "print(\"Mean of r2 score values in Lasso Regression:\",ridge_r2_mean)"
      ]
    }
  ],
  "metadata": {
    "colab": {
      "provenance": []
    },
    "kernelspec": {
      "display_name": "Python 3",
      "name": "python3"
    },
    "language_info": {
      "name": "python"
    }
  },
  "nbformat": 4,
  "nbformat_minor": 0
}
